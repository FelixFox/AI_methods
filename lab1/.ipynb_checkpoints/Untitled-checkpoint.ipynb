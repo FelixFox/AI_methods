{
 "cells": [
  {
   "cell_type": "code",
   "execution_count": 2,
   "metadata": {
    "collapsed": true
   },
   "outputs": [],
   "source": [
    "from pyvis.network import Network\n",
    "import networkx as nx\n",
    "from graph import Graph"
   ]
  },
  {
   "cell_type": "code",
   "execution_count": 3,
   "metadata": {},
   "outputs": [],
   "source": [
    "gr = {\n",
    "    \"a\": [\"d\"],\n",
    "    \"b\": [\"c\"],\n",
    "    \"c\": [\"b\", \"c\", \"d\", \"e\"],\n",
    "    \"d\": [\"a\", \"c\"],\n",
    "    \"e\": [\"c\"],\n",
    "    \"f\": [],\n",
    "     \"g\":[\"a\", \"b\", \"c\",\"d\"],\n",
    "     \"h\":[\"a\"]\n",
    "     }\n",
    "\n",
    "graph = Graph(gr)\n",
    "#G = nx.Graph()\n",
    "nodes_list = graph.vertices()\n",
    "edge_list = graph.edges()\n",
    "#G.add_edges_from(edge_list)\n"
   ]
  },
  {
   "cell_type": "code",
   "execution_count": 4,
   "metadata": {},
   "outputs": [
    {
     "data": {
      "text/html": [
       "\n",
       "        <iframe\n",
       "            width=\"1000\"\n",
       "            height=\"1000\"\n",
       "            src=\"ex.html\"\n",
       "            frameborder=\"0\"\n",
       "            allowfullscreen\n",
       "        ></iframe>\n",
       "        "
      ],
      "text/plain": [
       "<IPython.lib.display.IFrame at 0x2120405c978>"
      ]
     },
     "execution_count": 4,
     "metadata": {},
     "output_type": "execute_result"
    }
   ],
   "source": [
    "g = Network(height = 1000, width=1000, notebook = True)\n",
    "#g.toggle_hide_edges_on_drag(False)\n",
    "#g.barnes_hut()\n",
    "#g.from_nx(G)\n",
    "g.add_nodes(nodes_list)\n",
    "g.add_edges(edge_list)\n",
    "g.show('ex.html')\n"
   ]
  },
  {
   "cell_type": "code",
   "execution_count": 5,
   "metadata": {},
   "outputs": [
    {
     "data": {
      "text/plain": [
       "False"
      ]
     },
     "execution_count": 5,
     "metadata": {},
     "output_type": "execute_result"
    }
   ],
   "source": [
    "graph.is_connected()"
   ]
  },
  {
   "cell_type": "code",
   "execution_count": null,
   "metadata": {
    "collapsed": true
   },
   "outputs": [],
   "source": []
  }
 ],
 "metadata": {
  "kernelspec": {
   "display_name": "Python 3",
   "language": "python",
   "name": "python3"
  },
  "language_info": {
   "codemirror_mode": {
    "name": "ipython",
    "version": 3
   },
   "file_extension": ".py",
   "mimetype": "text/x-python",
   "name": "python",
   "nbconvert_exporter": "python",
   "pygments_lexer": "ipython3",
   "version": "3.6.2"
  }
 },
 "nbformat": 4,
 "nbformat_minor": 2
}
