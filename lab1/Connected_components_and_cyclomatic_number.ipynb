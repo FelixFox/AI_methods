{
 "cells": [
  {
   "cell_type": "code",
   "execution_count": 2,
   "metadata": {
    "collapsed": true
   },
   "outputs": [],
   "source": [
    "from pyvis.network import Network\n",
    "from graph import Graph"
   ]
  },
  {
   "cell_type": "code",
   "execution_count": 3,
   "metadata": {},
   "outputs": [],
   "source": [
    "gr = {\n",
    "    \"a\": [\"d\",\"h\",\"g\"],\n",
    "    \"b\": [\"c\",\"g\"],\n",
    "    \"c\": [\"b\", \"d\", \"e\",\"g\"],\n",
    "    \"d\": [\"a\", \"c\",\"g\"],\n",
    "    \"e\": [\"c\"],\n",
    "    \"f\": [\"j\"],\n",
    "     \"g\":[\"a\", \"b\", \"c\",\"d\"],\n",
    "     \"h\":[\"a\",\"i\"],\n",
    "    \"i\":[\"h\"],\n",
    "    \"j\":[\"f\",\"k\"],\n",
    "    \"k\":[\"j\"],\n",
    "    \"l\":[\"m\"],\n",
    "    \"m\":[\"l\"]\n",
    "     }\n",
    "\n",
    "graph = Graph(gr)\n",
    "nodes_list = graph.vertices()\n",
    "edge_list = graph.edges()\n",
    "\n"
   ]
  },
  {
   "cell_type": "code",
   "execution_count": 16,
   "metadata": {},
   "outputs": [
    {
     "name": "stdout",
     "output_type": "stream",
     "text": [
      "The graph is connected: False\n",
      "----------------------------------------------------\n",
      "Number of connected components: 3\n",
      "----------------------------------------------------\n",
      "Connected component 1: f, j, k\n",
      "Connected component 2: a, b, c, d, e, g, h, i\n",
      "Connected component 3: l, m\n",
      "----------------------------------------------------\n",
      "The cyclomatic number is: 3\n"
     ]
    },
    {
     "data": {
      "text/html": [
       "\n",
       "        <iframe\n",
       "            width=\"1000\"\n",
       "            height=\"1000\"\n",
       "            src=\"ex.html\"\n",
       "            frameborder=\"0\"\n",
       "            allowfullscreen\n",
       "        ></iframe>\n",
       "        "
      ],
      "text/plain": [
       "<IPython.lib.display.IFrame at 0x29a21a74fd0>"
      ]
     },
     "execution_count": 16,
     "metadata": {},
     "output_type": "execute_result"
    }
   ],
   "source": [
    "g = Network(height = 1000, width=1000, notebook = True)\n",
    "g.toggle_hide_edges_on_drag(False)\n",
    "g.add_nodes(nodes_list)\n",
    "g.add_edges(edge_list)\n",
    "\n",
    "\n",
    "print('The graph is connected: {}'.format(graph.is_connected()))\n",
    "print(\"----------------------------------------------------\")\n",
    "\n",
    "connected_components = graph.connected_components()\n",
    "n_components = len(connected_components)\n",
    "print('Number of connected components: {}'.format(n_components))\n",
    "print(\"----------------------------------------------------\")\n",
    "\n",
    "number = 1\n",
    "for components in connected_components:\n",
    "    names = sorted(node for node in components)\n",
    "    names = \", \".join(names)\n",
    "    print (\"Connected component {}: {}\".format(number, names))\n",
    "    number += 1\n",
    "print(\"----------------------------------------------------\")\n",
    "\n",
    "print(\"The cyclomatic number is: {}\".format(graph.get_cyclomatic_number()))\n",
    "g.show('ex.html')\n"
   ]
  },
  {
   "cell_type": "markdown",
   "metadata": {},
   "source": []
  },
  {
   "cell_type": "code",
   "execution_count": 44,
   "metadata": {},
   "outputs": [
    {
     "name": "stdout",
     "output_type": "stream",
     "text": [
      "{2, 3, 4, 5}\n"
     ]
    },
    {
     "data": {
      "text/plain": [
       "4"
      ]
     },
     "execution_count": 44,
     "metadata": {},
     "output_type": "execute_result"
    }
   ],
   "source": [
    "\n",
    "from random import randint\n",
    "import networkx as nx\n",
    "\n",
    "G = nx.Graph()\n",
    "G.add_edges_from([(1,2),(2,3),(3,4),(4,5),(1,3),(1,4),(1,5),(2,4),(2,5),(3,5),(4,5)])\n",
    "node_cut = nx.minimum_node_cut(G)\n",
    "print(node_cut)\n",
    "len(node_cut)"
   ]
  },
  {
   "cell_type": "code",
   "execution_count": null,
   "metadata": {
    "collapsed": true
   },
   "outputs": [],
   "source": []
  }
 ],
 "metadata": {
  "kernelspec": {
   "display_name": "Python 3",
   "language": "python",
   "name": "python3"
  },
  "language_info": {
   "codemirror_mode": {
    "name": "ipython",
    "version": 3
   },
   "file_extension": ".py",
   "mimetype": "text/x-python",
   "name": "python",
   "nbconvert_exporter": "python",
   "pygments_lexer": "ipython3",
   "version": "3.6.2"
  }
 },
 "nbformat": 4,
 "nbformat_minor": 2
}
